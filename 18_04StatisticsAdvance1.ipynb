{
 "cells": [
  {
   "cell_type": "markdown",
   "id": "f92fd31d-fada-4088-bfd3-25454884c790",
   "metadata": {},
   "source": [
    "Q1. What is the Probability density function?\n",
    "The probability density function (PDF) is a function that describes the likelihood of a continuous random variable taking on a particular value within a given range. It is used in probability theory to specify the probability of observing a value within a range for continuous random variables. In other words, the PDF gives the probability distribution of a continuous random variable.\n",
    "\n",
    "Q2. What are the types of Probability distribution?\n",
    "There are several types of probability distributions, including:\n",
    "\n",
    "Normal distribution\n",
    "Binomial distribution\n",
    "Poisson distribution\n",
    "Exponential distribution\n",
    "Uniform distribution\n",
    "Gamma distribution\n",
    "Chi-square distribution\n",
    "Beta distribution\n",
    "Log-normal distribution, etc.\n",
    "\n",
    "Q3. Write a Python function to calculate the probability density function of a normal distribution with given mean and standard deviation at a given point."
   ]
  },
  {
   "cell_type": "code",
   "execution_count": 1,
   "id": "8991779e-6100-43e8-98d6-2312a41b7f1d",
   "metadata": {},
   "outputs": [
    {
     "name": "stdout",
     "output_type": "stream",
     "text": [
      "PDF at x = 1 : 0.24197072451914337\n"
     ]
    }
   ],
   "source": [
    "import numpy as np\n",
    "\n",
    "def normal_pdf(x, mean, std_dev):\n",
    "    exponent = -(x - mean)**2 / (2 * std_dev**2)\n",
    "    return (1 / (std_dev * np.sqrt(2 * np.pi))) * np.exp(exponent)\n",
    "\n",
    "# Example usage\n",
    "mean = 0\n",
    "std_dev = 1\n",
    "x = 1\n",
    "pdf_value = normal_pdf(x, mean, std_dev)\n",
    "print(\"PDF at x =\", x, \":\", pdf_value)\n"
   ]
  },
  {
   "cell_type": "markdown",
   "id": "c580c577-255b-4b9f-8ef2-36b5e6afbe03",
   "metadata": {},
   "source": [
    "Q4. What are the properties of Binomial distribution? Give two examples of events where binomial distribution can be applied.\n",
    "Properties of the Binomial distribution:\n",
    "\n",
    "It models the number of successes in a fixed number of independent Bernoulli trials.\n",
    "Each trial has only two possible outcomes: success or failure.\n",
    "The trials are independent and have the same probability of success.\n",
    "The random variable follows a binomial distribution with parameters \n",
    "\n",
    "n (number of trials) and \n",
    "\n",
    "p (probability of success).\n",
    "The mean of the distribution is np\n",
    "and the variance is np(1-p)\n",
    "Examples of events where binomial distribution can be applied:\n",
    "Flipping a coin multiple times and counting the number of heads.\n",
    "Testing the success rate of a new drug by administering it to a group of patients and recording the number of patients who respond positively.\n",
    "\n",
    "Q5. Generate a random sample of size 1000 from a binomial distribution with probability of success 0.4 and plot a histogram of the results using matplotlib."
   ]
  },
  {
   "cell_type": "code",
   "execution_count": 2,
   "id": "792506c2-07e3-4929-bb03-83afabf89a15",
   "metadata": {},
   "outputs": [
    {
     "data": {
      "image/png": "[encoded data removed]",
      "text/plain": [
       "<Figure size 640x480 with 1 Axes>"
      ]
     },
     "metadata": {},
     "output_type": "display_data"
    }
   ],
   "source": [
    "import numpy as np\n",
    "import matplotlib.pyplot as plt\n",
    "\n",
    "# Generate random sample\n",
    "sample_size = 1000\n",
    "probability = 0.4\n",
    "random_sample = np.random.binomial(1, probability, sample_size)\n",
    "\n",
    "# Plot histogram\n",
    "plt.hist(random_sample, bins=2, edgecolor='black')\n",
    "plt.title('Binomial Distribution')\n",
    "plt.xlabel('Outcome')\n",
    "plt.ylabel('Frequency')\n",
    "plt.show()\n"
   ]
  },
  {
   "cell_type": "markdown",
   "id": "9ed3e0e3-278d-4284-8fd8-bc840161824c",
   "metadata": {},
   "source": [
    "Q6. Write a Python function to calculate the cumulative distribution function of a Poisson distribution with given mean at a given point."
   ]
  },
  {
   "cell_type": "code",
   "execution_count": 3,
   "id": "7c046b94-5014-47e0-a4d0-3da0f65c2fc8",
   "metadata": {},
   "outputs": [
    {
     "name": "stdout",
     "output_type": "stream",
     "text": [
      "CDF at k = 2 : 0.42319008112684364\n"
     ]
    }
   ],
   "source": [
    "import numpy as np\n",
    "from scipy.stats import poisson\n",
    "\n",
    "def poisson_cdf(k, mean):\n",
    "    return poisson.cdf(k, mean)\n",
    "\n",
    "# Example usage\n",
    "mean = 3\n",
    "k = 2\n",
    "cdf_value = poisson_cdf(k, mean)\n",
    "print(\"CDF at k =\", k, \":\", cdf_value)\n"
   ]
  },
  {
   "cell_type": "markdown",
   "id": "f4c5e45e-c1f2-4851-b293-fd5cd6df20ea",
   "metadata": {},
   "source": [
    "Q6. Write a Python function to calculate the cumulative distribution function of a Poisson distribution with given mean at a given point.\n",
    "\n",
    "python\n",
    "Copy code\n",
    "import numpy as np\n",
    "from scipy.stats import poisson\n",
    "\n",
    "def poisson_cdf(k, mean):\n",
    "    return poisson.cdf(k, mean)\n",
    "\n",
    "# Example usage\n",
    "mean = 3\n",
    "k = 2\n",
    "cdf_value = poisson_cdf(k, mean)\n",
    "print(\"CDF at k =\", k, \":\", cdf_value)\n",
    "Q7. How is Binomial distribution different from Poisson distribution?\n",
    "\n",
    "Binomial distribution: It models the number of successes in a fixed number of independent trials, where each trial has only two possible outcomes (success or failure). The number of trials is fixed and finite.\n",
    "Poisson distribution: It models the number of events occurring in a fixed interval of time or space. It is used when the number of trials is large and the probability of success is small. The number of events is not fixed but is assumed to occur at a constant rate over the interval.\n",
    "Q8. Generate a random sample of size 1000 from a Poisson distribution with mean 5 and calculate the sample mean and variance."
   ]
  },
  {
   "cell_type": "code",
   "execution_count": 4,
   "id": "471bdb24-b512-44a7-b085-7760a8438b47",
   "metadata": {},
   "outputs": [
    {
     "name": "stdout",
     "output_type": "stream",
     "text": [
      "Sample Mean: 4.954\n",
      "Sample Variance: 4.897884\n"
     ]
    }
   ],
   "source": [
    "import numpy as np\n",
    "\n",
    "# Generate random sample\n",
    "sample_size = 1000\n",
    "mean = 5\n",
    "random_sample = np.random.poisson(mean, sample_size)\n",
    "\n",
    "# Calculate sample mean and variance\n",
    "sample_mean = np.mean(random_sample)\n",
    "sample_variance = np.var(random_sample)\n",
    "\n",
    "print(\"Sample Mean:\", sample_mean)\n",
    "print(\"Sample Variance:\", sample_variance)\n"
   ]
  },
  {
   "cell_type": "markdown",
   "id": "b55bee44-a6b7-4d01-9fae-09878e0c402f",
   "metadata": {},
   "source": [
    "Q9. How are mean and variance related in Binomial distribution and Poisson distribution?\n",
    "Binomial distribution: The mean (μ) of a binomial distribution is equal to \n",
    "np, where \n",
    "n is the number of trials and \n",
    "p is the probability of success. \n",
    "\n",
    "Q10. In normal distribution with respect to mean position, where does the least frequent data appear?\n",
    "In a normal distribution, the least frequent data appears at the tails of the distribution, farthest from the mean. As you move away from the mean towards the tails, the frequency of occurrence decreases."
   ]
  },
  {
   "cell_type": "code",
   "execution_count": null,
   "id": "5d25a7ab-b202-4d05-b502-56eb7b71eb1b",
   "metadata": {},
   "outputs": [],
   "source": []
  }
 ],
 "metadata": {
  "kernelspec": {
   "display_name": "Python 3 (ipykernel)",
   "language": "python",
   "name": "python3"
  },
  "language_info": {
   "codemirror_mode": {
    "name": "ipython",
    "version": 3
   },
   "file_extension": ".py",
   "mimetype": "text/x-python",
   "name": "python",
   "nbconvert_exporter": "python",
   "pygments_lexer": "ipython3",
   "version": "3.10.8"
  }
 },
 "nbformat": 4,
 "nbformat_minor": 5
}
